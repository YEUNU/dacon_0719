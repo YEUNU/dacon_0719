{
 "cells": [
  {
   "cell_type": "code",
   "execution_count": 1,
   "metadata": {},
   "outputs": [
    {
     "name": "stderr",
     "output_type": "stream",
     "text": [
      "/opt/homebrew/Caskroom/miniforge/base/envs/hp/lib/python3.10/site-packages/numba/core/decorators.py:262: NumbaDeprecationWarning: numba.generated_jit is deprecated. Please see the documentation at: https://numba.readthedocs.io/en/stable/reference/deprecation.html#deprecation-of-generated-jit for more information and advice on a suitable replacement.\n",
      "  warnings.warn(msg, NumbaDeprecationWarning)\n",
      "/opt/homebrew/Caskroom/miniforge/base/envs/hp/lib/python3.10/site-packages/visions/backends/shared/nan_handling.py:51: NumbaDeprecationWarning: The 'nopython' keyword argument was not supplied to the 'numba.jit' decorator. The implicit default value for this argument is currently False, but it will be changed to True in Numba 0.59.0. See https://numba.readthedocs.io/en/stable/reference/deprecation.html#deprecation-of-object-mode-fall-back-behaviour-when-using-jit for details.\n",
      "  def hasna(x: np.ndarray) -> bool:\n"
     ]
    }
   ],
   "source": [
    "import numpy as np\n",
    "import pandas as pd\n",
    "from ydata_profiling import ProfileReport"
   ]
  },
  {
   "cell_type": "code",
   "execution_count": 2,
   "metadata": {},
   "outputs": [],
   "source": [
    "df = pd.read_csv(\"train.csv\")"
   ]
  },
  {
   "cell_type": "code",
   "execution_count": 3,
   "metadata": {},
   "outputs": [],
   "source": [
    "profile = ProfileReport(df, title=\"Profiling Report\")\n"
   ]
  },
  {
   "cell_type": "code",
   "execution_count": 4,
   "metadata": {},
   "outputs": [
    {
     "data": {
      "application/vnd.jupyter.widget-view+json": {
       "model_id": "52e6e8a802ff41e591a8655935575aea",
       "version_major": 2,
       "version_minor": 0
      },
      "text/plain": [
       "Summarize dataset:   0%|          | 0/5 [00:00<?, ?it/s]"
      ]
     },
     "metadata": {},
     "output_type": "display_data"
    },
    {
     "name": "stderr",
     "output_type": "stream",
     "text": [
      "/opt/homebrew/Caskroom/miniforge/base/envs/hp/lib/python3.10/site-packages/ydata_profiling/visualisation/utils.py:73: UserWarning: Glyph 8722 (\\N{MINUS SIGN}) missing from current font.\n",
      "  plt.savefig(\n",
      "/opt/homebrew/Caskroom/miniforge/base/envs/hp/lib/python3.10/site-packages/ydata_profiling/visualisation/utils.py:73: UserWarning: Glyph 8291 (\\N{INVISIBLE SEPARATOR}) missing from current font.\n",
      "  plt.savefig(\n",
      "/opt/homebrew/Caskroom/miniforge/base/envs/hp/lib/python3.10/site-packages/ydata_profiling/visualisation/utils.py:73: UserWarning: Glyph 8722 (\\N{MINUS SIGN}) missing from current font.\n",
      "  plt.savefig(\n",
      "/opt/homebrew/Caskroom/miniforge/base/envs/hp/lib/python3.10/site-packages/ydata_profiling/visualisation/utils.py:73: UserWarning: Glyph 8722 (\\N{MINUS SIGN}) missing from current font.\n",
      "  plt.savefig(\n",
      "/opt/homebrew/Caskroom/miniforge/base/envs/hp/lib/python3.10/site-packages/ydata_profiling/visualisation/utils.py:73: UserWarning: Glyph 8291 (\\N{INVISIBLE SEPARATOR}) missing from current font.\n",
      "  plt.savefig(\n",
      "/opt/homebrew/Caskroom/miniforge/base/envs/hp/lib/python3.10/site-packages/ydata_profiling/visualisation/utils.py:73: UserWarning: Glyph 8722 (\\N{MINUS SIGN}) missing from current font.\n",
      "  plt.savefig(\n",
      "/opt/homebrew/Caskroom/miniforge/base/envs/hp/lib/python3.10/site-packages/ydata_profiling/visualisation/utils.py:73: UserWarning: Glyph 8722 (\\N{MINUS SIGN}) missing from current font.\n",
      "  plt.savefig(\n",
      "/opt/homebrew/Caskroom/miniforge/base/envs/hp/lib/python3.10/site-packages/ydata_profiling/visualisation/utils.py:73: UserWarning: Glyph 8291 (\\N{INVISIBLE SEPARATOR}) missing from current font.\n",
      "  plt.savefig(\n",
      "/opt/homebrew/Caskroom/miniforge/base/envs/hp/lib/python3.10/site-packages/ydata_profiling/visualisation/utils.py:73: UserWarning: Glyph 8722 (\\N{MINUS SIGN}) missing from current font.\n",
      "  plt.savefig(\n",
      "/opt/homebrew/Caskroom/miniforge/base/envs/hp/lib/python3.10/site-packages/ydata_profiling/visualisation/utils.py:73: UserWarning: Glyph 8291 (\\N{INVISIBLE SEPARATOR}) missing from current font.\n",
      "  plt.savefig(\n",
      "/opt/homebrew/Caskroom/miniforge/base/envs/hp/lib/python3.10/site-packages/ydata_profiling/visualisation/utils.py:73: UserWarning: Glyph 8722 (\\N{MINUS SIGN}) missing from current font.\n",
      "  plt.savefig(\n",
      "/opt/homebrew/Caskroom/miniforge/base/envs/hp/lib/python3.10/site-packages/ydata_profiling/visualisation/utils.py:73: UserWarning: Glyph 8291 (\\N{INVISIBLE SEPARATOR}) missing from current font.\n",
      "  plt.savefig(\n",
      "/opt/homebrew/Caskroom/miniforge/base/envs/hp/lib/python3.10/site-packages/ydata_profiling/visualisation/utils.py:73: UserWarning: Glyph 8722 (\\N{MINUS SIGN}) missing from current font.\n",
      "  plt.savefig(\n",
      "/opt/homebrew/Caskroom/miniforge/base/envs/hp/lib/python3.10/site-packages/ydata_profiling/visualisation/utils.py:73: UserWarning: Glyph 8291 (\\N{INVISIBLE SEPARATOR}) missing from current font.\n",
      "  plt.savefig(\n",
      "/opt/homebrew/Caskroom/miniforge/base/envs/hp/lib/python3.10/site-packages/ydata_profiling/visualisation/utils.py:73: UserWarning: Glyph 8722 (\\N{MINUS SIGN}) missing from current font.\n",
      "  plt.savefig(\n",
      "/opt/homebrew/Caskroom/miniforge/base/envs/hp/lib/python3.10/site-packages/ydata_profiling/visualisation/utils.py:73: UserWarning: Glyph 8291 (\\N{INVISIBLE SEPARATOR}) missing from current font.\n",
      "  plt.savefig(\n",
      "/opt/homebrew/Caskroom/miniforge/base/envs/hp/lib/python3.10/site-packages/ydata_profiling/visualisation/utils.py:73: UserWarning: Glyph 8722 (\\N{MINUS SIGN}) missing from current font.\n",
      "  plt.savefig(\n",
      "/opt/homebrew/Caskroom/miniforge/base/envs/hp/lib/python3.10/site-packages/ydata_profiling/visualisation/utils.py:73: UserWarning: Glyph 8291 (\\N{INVISIBLE SEPARATOR}) missing from current font.\n",
      "  plt.savefig(\n",
      "/opt/homebrew/Caskroom/miniforge/base/envs/hp/lib/python3.10/site-packages/ydata_profiling/visualisation/utils.py:73: UserWarning: Glyph 8722 (\\N{MINUS SIGN}) missing from current font.\n",
      "  plt.savefig(\n",
      "/opt/homebrew/Caskroom/miniforge/base/envs/hp/lib/python3.10/site-packages/ydata_profiling/visualisation/utils.py:73: UserWarning: Glyph 8291 (\\N{INVISIBLE SEPARATOR}) missing from current font.\n",
      "  plt.savefig(\n",
      "/opt/homebrew/Caskroom/miniforge/base/envs/hp/lib/python3.10/site-packages/ydata_profiling/visualisation/utils.py:73: UserWarning: Glyph 8722 (\\N{MINUS SIGN}) missing from current font.\n",
      "  plt.savefig(\n",
      "/opt/homebrew/Caskroom/miniforge/base/envs/hp/lib/python3.10/site-packages/ydata_profiling/visualisation/utils.py:73: UserWarning: Glyph 8291 (\\N{INVISIBLE SEPARATOR}) missing from current font.\n",
      "  plt.savefig(\n",
      "/opt/homebrew/Caskroom/miniforge/base/envs/hp/lib/python3.10/site-packages/ydata_profiling/visualisation/utils.py:73: UserWarning: Glyph 8722 (\\N{MINUS SIGN}) missing from current font.\n",
      "  plt.savefig(\n",
      "/opt/homebrew/Caskroom/miniforge/base/envs/hp/lib/python3.10/site-packages/ydata_profiling/visualisation/utils.py:73: UserWarning: Glyph 8291 (\\N{INVISIBLE SEPARATOR}) missing from current font.\n",
      "  plt.savefig(\n",
      "/opt/homebrew/Caskroom/miniforge/base/envs/hp/lib/python3.10/site-packages/ydata_profiling/visualisation/utils.py:73: UserWarning: Glyph 8722 (\\N{MINUS SIGN}) missing from current font.\n",
      "  plt.savefig(\n",
      "/opt/homebrew/Caskroom/miniforge/base/envs/hp/lib/python3.10/site-packages/ydata_profiling/visualisation/utils.py:73: UserWarning: Glyph 8291 (\\N{INVISIBLE SEPARATOR}) missing from current font.\n",
      "  plt.savefig(\n",
      "/opt/homebrew/Caskroom/miniforge/base/envs/hp/lib/python3.10/site-packages/ydata_profiling/visualisation/utils.py:73: UserWarning: Glyph 8722 (\\N{MINUS SIGN}) missing from current font.\n",
      "  plt.savefig(\n",
      "/opt/homebrew/Caskroom/miniforge/base/envs/hp/lib/python3.10/site-packages/ydata_profiling/visualisation/utils.py:73: UserWarning: Glyph 8291 (\\N{INVISIBLE SEPARATOR}) missing from current font.\n",
      "  plt.savefig(\n",
      "/opt/homebrew/Caskroom/miniforge/base/envs/hp/lib/python3.10/site-packages/ydata_profiling/visualisation/utils.py:73: UserWarning: Glyph 8722 (\\N{MINUS SIGN}) missing from current font.\n",
      "  plt.savefig(\n",
      "/opt/homebrew/Caskroom/miniforge/base/envs/hp/lib/python3.10/site-packages/ydata_profiling/visualisation/utils.py:73: UserWarning: Glyph 8291 (\\N{INVISIBLE SEPARATOR}) missing from current font.\n",
      "  plt.savefig(\n",
      "/opt/homebrew/Caskroom/miniforge/base/envs/hp/lib/python3.10/site-packages/ydata_profiling/visualisation/utils.py:73: UserWarning: Glyph 8722 (\\N{MINUS SIGN}) missing from current font.\n",
      "  plt.savefig(\n",
      "/opt/homebrew/Caskroom/miniforge/base/envs/hp/lib/python3.10/site-packages/ydata_profiling/visualisation/utils.py:73: UserWarning: Glyph 8291 (\\N{INVISIBLE SEPARATOR}) missing from current font.\n",
      "  plt.savefig(\n",
      "/opt/homebrew/Caskroom/miniforge/base/envs/hp/lib/python3.10/site-packages/ydata_profiling/visualisation/utils.py:73: UserWarning: Glyph 8722 (\\N{MINUS SIGN}) missing from current font.\n",
      "  plt.savefig(\n",
      "/opt/homebrew/Caskroom/miniforge/base/envs/hp/lib/python3.10/site-packages/ydata_profiling/visualisation/utils.py:73: UserWarning: Glyph 8291 (\\N{INVISIBLE SEPARATOR}) missing from current font.\n",
      "  plt.savefig(\n",
      "/opt/homebrew/Caskroom/miniforge/base/envs/hp/lib/python3.10/site-packages/ydata_profiling/visualisation/utils.py:73: UserWarning: Glyph 8722 (\\N{MINUS SIGN}) missing from current font.\n",
      "  plt.savefig(\n",
      "/opt/homebrew/Caskroom/miniforge/base/envs/hp/lib/python3.10/site-packages/ydata_profiling/visualisation/utils.py:73: UserWarning: Glyph 8291 (\\N{INVISIBLE SEPARATOR}) missing from current font.\n",
      "  plt.savefig(\n",
      "/opt/homebrew/Caskroom/miniforge/base/envs/hp/lib/python3.10/site-packages/ydata_profiling/visualisation/utils.py:73: UserWarning: Glyph 8722 (\\N{MINUS SIGN}) missing from current font.\n",
      "  plt.savefig(\n",
      "/opt/homebrew/Caskroom/miniforge/base/envs/hp/lib/python3.10/site-packages/ydata_profiling/visualisation/utils.py:73: UserWarning: Glyph 8722 (\\N{MINUS SIGN}) missing from current font.\n",
      "  plt.savefig(\n",
      "/opt/homebrew/Caskroom/miniforge/base/envs/hp/lib/python3.10/site-packages/ydata_profiling/visualisation/utils.py:73: UserWarning: Glyph 8722 (\\N{MINUS SIGN}) missing from current font.\n",
      "  plt.savefig(\n",
      "/opt/homebrew/Caskroom/miniforge/base/envs/hp/lib/python3.10/site-packages/ydata_profiling/visualisation/utils.py:73: UserWarning: Glyph 8722 (\\N{MINUS SIGN}) missing from current font.\n",
      "  plt.savefig(\n",
      "/opt/homebrew/Caskroom/miniforge/base/envs/hp/lib/python3.10/site-packages/ydata_profiling/visualisation/utils.py:73: UserWarning: Glyph 8291 (\\N{INVISIBLE SEPARATOR}) missing from current font.\n",
      "  plt.savefig(\n",
      "/opt/homebrew/Caskroom/miniforge/base/envs/hp/lib/python3.10/site-packages/ydata_profiling/visualisation/utils.py:73: UserWarning: Glyph 8722 (\\N{MINUS SIGN}) missing from current font.\n",
      "  plt.savefig(\n",
      "/opt/homebrew/Caskroom/miniforge/base/envs/hp/lib/python3.10/site-packages/ydata_profiling/visualisation/utils.py:73: UserWarning: Glyph 8722 (\\N{MINUS SIGN}) missing from current font.\n",
      "  plt.savefig(\n",
      "/opt/homebrew/Caskroom/miniforge/base/envs/hp/lib/python3.10/site-packages/ydata_profiling/visualisation/utils.py:73: UserWarning: Glyph 8722 (\\N{MINUS SIGN}) missing from current font.\n",
      "  plt.savefig(\n",
      "/opt/homebrew/Caskroom/miniforge/base/envs/hp/lib/python3.10/site-packages/ydata_profiling/visualisation/utils.py:73: UserWarning: Glyph 8722 (\\N{MINUS SIGN}) missing from current font.\n",
      "  plt.savefig(\n",
      "/opt/homebrew/Caskroom/miniforge/base/envs/hp/lib/python3.10/site-packages/ydata_profiling/visualisation/utils.py:73: UserWarning: Glyph 8722 (\\N{MINUS SIGN}) missing from current font.\n",
      "  plt.savefig(\n",
      "/opt/homebrew/Caskroom/miniforge/base/envs/hp/lib/python3.10/site-packages/ydata_profiling/visualisation/utils.py:73: UserWarning: Glyph 8722 (\\N{MINUS SIGN}) missing from current font.\n",
      "  plt.savefig(\n",
      "/opt/homebrew/Caskroom/miniforge/base/envs/hp/lib/python3.10/site-packages/ydata_profiling/visualisation/utils.py:73: UserWarning: Glyph 8722 (\\N{MINUS SIGN}) missing from current font.\n",
      "  plt.savefig(\n",
      "/opt/homebrew/Caskroom/miniforge/base/envs/hp/lib/python3.10/site-packages/ydata_profiling/visualisation/utils.py:73: UserWarning: Glyph 8722 (\\N{MINUS SIGN}) missing from current font.\n",
      "  plt.savefig(\n",
      "/opt/homebrew/Caskroom/miniforge/base/envs/hp/lib/python3.10/site-packages/ydata_profiling/visualisation/utils.py:73: UserWarning: Glyph 8722 (\\N{MINUS SIGN}) missing from current font.\n",
      "  plt.savefig(\n",
      "/opt/homebrew/Caskroom/miniforge/base/envs/hp/lib/python3.10/site-packages/ydata_profiling/visualisation/utils.py:73: UserWarning: Glyph 8722 (\\N{MINUS SIGN}) missing from current font.\n",
      "  plt.savefig(\n",
      "/opt/homebrew/Caskroom/miniforge/base/envs/hp/lib/python3.10/site-packages/ydata_profiling/visualisation/utils.py:73: UserWarning: Glyph 8722 (\\N{MINUS SIGN}) missing from current font.\n",
      "  plt.savefig(\n",
      "/opt/homebrew/Caskroom/miniforge/base/envs/hp/lib/python3.10/site-packages/ydata_profiling/visualisation/utils.py:73: UserWarning: Glyph 8722 (\\N{MINUS SIGN}) missing from current font.\n",
      "  plt.savefig(\n",
      "/opt/homebrew/Caskroom/miniforge/base/envs/hp/lib/python3.10/site-packages/ydata_profiling/visualisation/utils.py:73: UserWarning: Glyph 8291 (\\N{INVISIBLE SEPARATOR}) missing from current font.\n",
      "  plt.savefig(\n",
      "/opt/homebrew/Caskroom/miniforge/base/envs/hp/lib/python3.10/site-packages/ydata_profiling/visualisation/utils.py:73: UserWarning: Glyph 8722 (\\N{MINUS SIGN}) missing from current font.\n",
      "  plt.savefig(\n",
      "/opt/homebrew/Caskroom/miniforge/base/envs/hp/lib/python3.10/site-packages/ydata_profiling/visualisation/utils.py:73: UserWarning: Glyph 8722 (\\N{MINUS SIGN}) missing from current font.\n",
      "  plt.savefig(\n",
      "/opt/homebrew/Caskroom/miniforge/base/envs/hp/lib/python3.10/site-packages/ydata_profiling/visualisation/utils.py:73: UserWarning: Glyph 8291 (\\N{INVISIBLE SEPARATOR}) missing from current font.\n",
      "  plt.savefig(\n",
      "/opt/homebrew/Caskroom/miniforge/base/envs/hp/lib/python3.10/site-packages/ydata_profiling/visualisation/utils.py:73: UserWarning: Glyph 8722 (\\N{MINUS SIGN}) missing from current font.\n",
      "  plt.savefig(\n",
      "/opt/homebrew/Caskroom/miniforge/base/envs/hp/lib/python3.10/site-packages/ydata_profiling/visualisation/utils.py:73: UserWarning: Glyph 8722 (\\N{MINUS SIGN}) missing from current font.\n",
      "  plt.savefig(\n",
      "/opt/homebrew/Caskroom/miniforge/base/envs/hp/lib/python3.10/site-packages/ydata_profiling/visualisation/utils.py:73: UserWarning: Glyph 8291 (\\N{INVISIBLE SEPARATOR}) missing from current font.\n",
      "  plt.savefig(\n",
      "/opt/homebrew/Caskroom/miniforge/base/envs/hp/lib/python3.10/site-packages/ydata_profiling/visualisation/utils.py:73: UserWarning: Glyph 8722 (\\N{MINUS SIGN}) missing from current font.\n",
      "  plt.savefig(\n",
      "/opt/homebrew/Caskroom/miniforge/base/envs/hp/lib/python3.10/site-packages/ydata_profiling/visualisation/utils.py:73: UserWarning: Glyph 8722 (\\N{MINUS SIGN}) missing from current font.\n",
      "  plt.savefig(\n",
      "/opt/homebrew/Caskroom/miniforge/base/envs/hp/lib/python3.10/site-packages/ydata_profiling/visualisation/utils.py:73: UserWarning: Glyph 8291 (\\N{INVISIBLE SEPARATOR}) missing from current font.\n",
      "  plt.savefig(\n",
      "/opt/homebrew/Caskroom/miniforge/base/envs/hp/lib/python3.10/site-packages/ydata_profiling/visualisation/utils.py:73: UserWarning: Glyph 8722 (\\N{MINUS SIGN}) missing from current font.\n",
      "  plt.savefig(\n",
      "/opt/homebrew/Caskroom/miniforge/base/envs/hp/lib/python3.10/site-packages/ydata_profiling/visualisation/utils.py:73: UserWarning: Glyph 8722 (\\N{MINUS SIGN}) missing from current font.\n",
      "  plt.savefig(\n",
      "/opt/homebrew/Caskroom/miniforge/base/envs/hp/lib/python3.10/site-packages/ydata_profiling/visualisation/utils.py:73: UserWarning: Glyph 8291 (\\N{INVISIBLE SEPARATOR}) missing from current font.\n",
      "  plt.savefig(\n",
      "/opt/homebrew/Caskroom/miniforge/base/envs/hp/lib/python3.10/site-packages/ydata_profiling/visualisation/utils.py:73: UserWarning: Glyph 8722 (\\N{MINUS SIGN}) missing from current font.\n",
      "  plt.savefig(\n",
      "/opt/homebrew/Caskroom/miniforge/base/envs/hp/lib/python3.10/site-packages/ydata_profiling/visualisation/utils.py:73: UserWarning: Glyph 8722 (\\N{MINUS SIGN}) missing from current font.\n",
      "  plt.savefig(\n",
      "/opt/homebrew/Caskroom/miniforge/base/envs/hp/lib/python3.10/site-packages/ydata_profiling/visualisation/utils.py:73: UserWarning: Glyph 8291 (\\N{INVISIBLE SEPARATOR}) missing from current font.\n",
      "  plt.savefig(\n",
      "/opt/homebrew/Caskroom/miniforge/base/envs/hp/lib/python3.10/site-packages/ydata_profiling/visualisation/utils.py:73: UserWarning: Glyph 8722 (\\N{MINUS SIGN}) missing from current font.\n",
      "  plt.savefig(\n",
      "/opt/homebrew/Caskroom/miniforge/base/envs/hp/lib/python3.10/site-packages/ydata_profiling/visualisation/utils.py:73: UserWarning: Glyph 8722 (\\N{MINUS SIGN}) missing from current font.\n",
      "  plt.savefig(\n",
      "/opt/homebrew/Caskroom/miniforge/base/envs/hp/lib/python3.10/site-packages/ydata_profiling/visualisation/utils.py:73: UserWarning: Glyph 8291 (\\N{INVISIBLE SEPARATOR}) missing from current font.\n",
      "  plt.savefig(\n",
      "/opt/homebrew/Caskroom/miniforge/base/envs/hp/lib/python3.10/site-packages/ydata_profiling/visualisation/utils.py:73: UserWarning: Glyph 8722 (\\N{MINUS SIGN}) missing from current font.\n",
      "  plt.savefig(\n",
      "/opt/homebrew/Caskroom/miniforge/base/envs/hp/lib/python3.10/site-packages/ydata_profiling/visualisation/utils.py:73: UserWarning: Glyph 8722 (\\N{MINUS SIGN}) missing from current font.\n",
      "  plt.savefig(\n",
      "/opt/homebrew/Caskroom/miniforge/base/envs/hp/lib/python3.10/site-packages/ydata_profiling/visualisation/utils.py:73: UserWarning: Glyph 8291 (\\N{INVISIBLE SEPARATOR}) missing from current font.\n",
      "  plt.savefig(\n",
      "/opt/homebrew/Caskroom/miniforge/base/envs/hp/lib/python3.10/site-packages/ydata_profiling/visualisation/utils.py:73: UserWarning: Glyph 8722 (\\N{MINUS SIGN}) missing from current font.\n",
      "  plt.savefig(\n",
      "/opt/homebrew/Caskroom/miniforge/base/envs/hp/lib/python3.10/site-packages/ydata_profiling/visualisation/utils.py:73: UserWarning: Glyph 8722 (\\N{MINUS SIGN}) missing from current font.\n",
      "  plt.savefig(\n",
      "/opt/homebrew/Caskroom/miniforge/base/envs/hp/lib/python3.10/site-packages/ydata_profiling/visualisation/utils.py:73: UserWarning: Glyph 8291 (\\N{INVISIBLE SEPARATOR}) missing from current font.\n",
      "  plt.savefig(\n",
      "/opt/homebrew/Caskroom/miniforge/base/envs/hp/lib/python3.10/site-packages/ydata_profiling/visualisation/utils.py:73: UserWarning: Glyph 8722 (\\N{MINUS SIGN}) missing from current font.\n",
      "  plt.savefig(\n",
      "/opt/homebrew/Caskroom/miniforge/base/envs/hp/lib/python3.10/site-packages/ydata_profiling/visualisation/utils.py:73: UserWarning: Glyph 8291 (\\N{INVISIBLE SEPARATOR}) missing from current font.\n",
      "  plt.savefig(\n",
      "/opt/homebrew/Caskroom/miniforge/base/envs/hp/lib/python3.10/site-packages/ydata_profiling/visualisation/utils.py:73: UserWarning: Glyph 8291 (\\N{INVISIBLE SEPARATOR}) missing from current font.\n",
      "  plt.savefig(\n"
     ]
    },
    {
     "data": {
      "application/vnd.jupyter.widget-view+json": {
       "model_id": "0ed57d117e1340f9a9de06fbd4bedc69",
       "version_major": 2,
       "version_minor": 0
      },
      "text/plain": [
       "Generate report structure:   0%|          | 0/1 [00:00<?, ?it/s]"
      ]
     },
     "metadata": {},
     "output_type": "display_data"
    },
    {
     "name": "stderr",
     "output_type": "stream",
     "text": [
      "/opt/homebrew/Caskroom/miniforge/base/envs/hp/lib/python3.10/site-packages/ydata_profiling/visualisation/utils.py:73: UserWarning: Glyph 8722 (\\N{MINUS SIGN}) missing from current font.\n",
      "  plt.savefig(\n",
      "/opt/homebrew/Caskroom/miniforge/base/envs/hp/lib/python3.10/site-packages/ydata_profiling/visualisation/plot.py:150: UserWarning: Glyph 8722 (\\N{MINUS SIGN}) missing from current font.\n",
      "  plot.figure.tight_layout()\n",
      "/opt/homebrew/Caskroom/miniforge/base/envs/hp/lib/python3.10/site-packages/ydata_profiling/visualisation/utils.py:73: UserWarning: Glyph 8722 (\\N{MINUS SIGN}) missing from current font.\n",
      "  plt.savefig(\n",
      "/opt/homebrew/Caskroom/miniforge/base/envs/hp/lib/python3.10/site-packages/ydata_profiling/visualisation/plot.py:179: UserWarning: Glyph 8722 (\\N{MINUS SIGN}) missing from current font.\n",
      "  plot.figure.tight_layout()\n",
      "/opt/homebrew/Caskroom/miniforge/base/envs/hp/lib/python3.10/site-packages/ydata_profiling/visualisation/utils.py:73: UserWarning: Glyph 8722 (\\N{MINUS SIGN}) missing from current font.\n",
      "  plt.savefig(\n",
      "/opt/homebrew/Caskroom/miniforge/base/envs/hp/lib/python3.10/site-packages/ydata_profiling/visualisation/plot.py:150: UserWarning: Glyph 8722 (\\N{MINUS SIGN}) missing from current font.\n",
      "  plot.figure.tight_layout()\n",
      "/opt/homebrew/Caskroom/miniforge/base/envs/hp/lib/python3.10/site-packages/ydata_profiling/visualisation/utils.py:73: UserWarning: Glyph 8722 (\\N{MINUS SIGN}) missing from current font.\n",
      "  plt.savefig(\n",
      "/opt/homebrew/Caskroom/miniforge/base/envs/hp/lib/python3.10/site-packages/ydata_profiling/visualisation/utils.py:73: UserWarning: Glyph 8291 (\\N{INVISIBLE SEPARATOR}) missing from current font.\n",
      "  plt.savefig(\n",
      "/opt/homebrew/Caskroom/miniforge/base/envs/hp/lib/python3.10/site-packages/ydata_profiling/visualisation/utils.py:73: UserWarning: Glyph 8722 (\\N{MINUS SIGN}) missing from current font.\n",
      "  plt.savefig(\n"
     ]
    },
    {
     "data": {
      "application/vnd.jupyter.widget-view+json": {
       "model_id": "eeb1756adc614c85beaf19511746522c",
       "version_major": 2,
       "version_minor": 0
      },
      "text/plain": [
       "Render HTML:   0%|          | 0/1 [00:00<?, ?it/s]"
      ]
     },
     "metadata": {},
     "output_type": "display_data"
    },
    {
     "data": {
      "application/vnd.jupyter.widget-view+json": {
       "model_id": "0b798e9f270d4593becf3a4f934cfb8c",
       "version_major": 2,
       "version_minor": 0
      },
      "text/plain": [
       "Export report to file:   0%|          | 0/1 [00:00<?, ?it/s]"
      ]
     },
     "metadata": {},
     "output_type": "display_data"
    }
   ],
   "source": [
    "profile.to_file(\"eda.html\")\n"
   ]
  },
  {
   "cell_type": "code",
   "execution_count": null,
   "metadata": {},
   "outputs": [],
   "source": []
  }
 ],
 "metadata": {
  "kernelspec": {
   "display_name": "Python 3",
   "language": "python",
   "name": "python3"
  },
  "language_info": {
   "codemirror_mode": {
    "name": "ipython",
    "version": 3
   },
   "file_extension": ".py",
   "mimetype": "text/x-python",
   "name": "python",
   "nbconvert_exporter": "python",
   "pygments_lexer": "ipython3",
   "version": "3.10.11"
  },
  "orig_nbformat": 4
 },
 "nbformat": 4,
 "nbformat_minor": 2
}
