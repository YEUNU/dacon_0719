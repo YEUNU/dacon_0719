{
 "cells": [
  {
   "cell_type": "code",
   "execution_count": 1,
   "metadata": {},
   "outputs": [],
   "source": [
    "from sklearn.ensemble import RandomForestRegressor\n",
    "import optuna\n",
    "import pandas as pd\n",
    "from sklearn.metrics import mean_absolute_error\n",
    "from sklearn.model_selection import train_test_split\n",
    "from sklearn.model_selection import KFold, cross_val_score\n",
    "import numpy as np\n",
    "from sklearn.preprocessing import MinMaxScaler\n"
   ]
  },
  {
   "cell_type": "code",
   "execution_count": 2,
   "metadata": {},
   "outputs": [],
   "source": [
    "data = pd.read_csv(\"train.csv\")"
   ]
  },
  {
   "cell_type": "code",
   "execution_count": 3,
   "metadata": {},
   "outputs": [],
   "source": [
    "def month_to_season(month):\n",
    "    if 3 <= month <= 5:\n",
    "        return '봄'\n",
    "    elif 6 <= month <= 8:\n",
    "        return '여름'\n",
    "    elif 9 <= month <= 11:\n",
    "        return '가을'\n",
    "    else:\n",
    "        return '겨울'\n",
    "data['계절'] = data['월'].apply(month_to_season)\n"
   ]
  },
  {
   "cell_type": "code",
   "execution_count": 4,
   "metadata": {},
   "outputs": [],
   "source": [
    "# ignore_features=['절대 온도(K)', '이슬점 온도(°C)', '포화 증기압(mbar)', '실제 증기압(mbar)',\n",
    "#        '증기압 부족량(mbar)', '수증기 함량 (g/kg)', '공기 밀도 (g/m**3)','ID']\n",
    "ignore_features=['포화 증기압(mbar)', '이슬점 온도(°C)','수증기 함량 (g/kg)','섭씨 온도(°⁣C)',\n",
    "       'ID','월','일']\n",
    "categorical_features = ['계절','측정 시간대']\n"
   ]
  },
  {
   "cell_type": "code",
   "execution_count": 5,
   "metadata": {},
   "outputs": [],
   "source": [
    "data.drop(ignore_features,axis=1,inplace=True)\n",
    "data = pd.get_dummies(data,columns=categorical_features)"
   ]
  },
  {
   "cell_type": "code",
   "execution_count": 6,
   "metadata": {},
   "outputs": [
    {
     "data": {
      "text/plain": [
       "[0.91, 0.23, 0.65, 0.49, 0.13, 0.12, 0.44, 0.7, 0.07, 0.34]"
      ]
     },
     "execution_count": 6,
     "metadata": {},
     "output_type": "execute_result"
    }
   ],
   "source": [
    "import random\n",
    "random_alpha = []\n",
    "for i in range(10):\n",
    "    random_alpha.append(float(str(random.random())[:4]))\n",
    "random_alpha"
   ]
  },
  {
   "cell_type": "code",
   "execution_count": 7,
   "metadata": {},
   "outputs": [],
   "source": [
    "data_copy = data.copy()\n",
    "for i in random_alpha:\n",
    "    temp_df = data.copy()\n",
    "    temp_df[[\"절대 온도(K)\",\"상대 습도 (%)\",\"대기압(mbar)\",\"실제 증기압(mbar)\",\"증기압 부족량(mbar)\",\"공기 밀도 (g/m**3)\",\"풍향 (deg)\",\"풍속 (m/s)\"]] = temp_df[[\"절대 온도(K)\",\"상대 습도 (%)\",\"대기압(mbar)\",\"실제 증기압(mbar)\",\"증기압 부족량(mbar)\",\"공기 밀도 (g/m**3)\",\"풍향 (deg)\",\"풍속 (m/s)\"]]*i\n",
    "    data_copy = pd.concat([data_copy, temp_df])\n"
   ]
  },
  {
   "cell_type": "code",
   "execution_count": 8,
   "metadata": {},
   "outputs": [
    {
     "data": {
      "text/html": [
       "<div>\n",
       "<style scoped>\n",
       "    .dataframe tbody tr th:only-of-type {\n",
       "        vertical-align: middle;\n",
       "    }\n",
       "\n",
       "    .dataframe tbody tr th {\n",
       "        vertical-align: top;\n",
       "    }\n",
       "\n",
       "    .dataframe thead th {\n",
       "        text-align: right;\n",
       "    }\n",
       "</style>\n",
       "<table border=\"1\" class=\"dataframe\">\n",
       "  <thead>\n",
       "    <tr style=\"text-align: right;\">\n",
       "      <th></th>\n",
       "      <th>절대 온도(K)</th>\n",
       "      <th>상대 습도 (%)</th>\n",
       "      <th>대기압(mbar)</th>\n",
       "      <th>실제 증기압(mbar)</th>\n",
       "      <th>증기압 부족량(mbar)</th>\n",
       "      <th>공기 밀도 (g/m**3)</th>\n",
       "      <th>풍향 (deg)</th>\n",
       "      <th>풍속 (m/s)</th>\n",
       "      <th>계절_가을</th>\n",
       "      <th>계절_겨울</th>\n",
       "      <th>계절_봄</th>\n",
       "      <th>계절_여름</th>\n",
       "      <th>측정 시간대_새벽</th>\n",
       "      <th>측정 시간대_오전</th>\n",
       "      <th>측정 시간대_오후</th>\n",
       "      <th>측정 시간대_저녁</th>\n",
       "    </tr>\n",
       "  </thead>\n",
       "  <tbody>\n",
       "    <tr>\n",
       "      <th>0</th>\n",
       "      <td>287.7800</td>\n",
       "      <td>76.1000</td>\n",
       "      <td>992.0800</td>\n",
       "      <td>12.1600</td>\n",
       "      <td>3.8200</td>\n",
       "      <td>1198.0600</td>\n",
       "      <td>155.6000</td>\n",
       "      <td>1.6100</td>\n",
       "      <td>0</td>\n",
       "      <td>0</td>\n",
       "      <td>0</td>\n",
       "      <td>1</td>\n",
       "      <td>0</td>\n",
       "      <td>0</td>\n",
       "      <td>0</td>\n",
       "      <td>1</td>\n",
       "    </tr>\n",
       "    <tr>\n",
       "      <th>1</th>\n",
       "      <td>290.8500</td>\n",
       "      <td>73.3000</td>\n",
       "      <td>991.0700</td>\n",
       "      <td>14.1700</td>\n",
       "      <td>5.1600</td>\n",
       "      <td>1183.6700</td>\n",
       "      <td>177.0000</td>\n",
       "      <td>1.6800</td>\n",
       "      <td>0</td>\n",
       "      <td>0</td>\n",
       "      <td>0</td>\n",
       "      <td>1</td>\n",
       "      <td>0</td>\n",
       "      <td>1</td>\n",
       "      <td>0</td>\n",
       "      <td>0</td>\n",
       "    </tr>\n",
       "    <tr>\n",
       "      <th>2</th>\n",
       "      <td>283.8400</td>\n",
       "      <td>74.2000</td>\n",
       "      <td>988.7100</td>\n",
       "      <td>8.9800</td>\n",
       "      <td>3.1200</td>\n",
       "      <td>1213.2200</td>\n",
       "      <td>146.2000</td>\n",
       "      <td>0.7300</td>\n",
       "      <td>1</td>\n",
       "      <td>0</td>\n",
       "      <td>0</td>\n",
       "      <td>0</td>\n",
       "      <td>0</td>\n",
       "      <td>0</td>\n",
       "      <td>0</td>\n",
       "      <td>1</td>\n",
       "    </tr>\n",
       "    <tr>\n",
       "      <th>3</th>\n",
       "      <td>277.3000</td>\n",
       "      <td>83.5000</td>\n",
       "      <td>1014.2500</td>\n",
       "      <td>7.4300</td>\n",
       "      <td>1.4700</td>\n",
       "      <td>1265.4800</td>\n",
       "      <td>264.5000</td>\n",
       "      <td>2.7100</td>\n",
       "      <td>0</td>\n",
       "      <td>1</td>\n",
       "      <td>0</td>\n",
       "      <td>0</td>\n",
       "      <td>0</td>\n",
       "      <td>1</td>\n",
       "      <td>0</td>\n",
       "      <td>0</td>\n",
       "    </tr>\n",
       "    <tr>\n",
       "      <th>4</th>\n",
       "      <td>290.8600</td>\n",
       "      <td>74.0000</td>\n",
       "      <td>995.7700</td>\n",
       "      <td>14.6800</td>\n",
       "      <td>5.1600</td>\n",
       "      <td>1187.4000</td>\n",
       "      <td>19.3400</td>\n",
       "      <td>1.0000</td>\n",
       "      <td>1</td>\n",
       "      <td>0</td>\n",
       "      <td>0</td>\n",
       "      <td>0</td>\n",
       "      <td>0</td>\n",
       "      <td>0</td>\n",
       "      <td>1</td>\n",
       "      <td>0</td>\n",
       "    </tr>\n",
       "    <tr>\n",
       "      <th>...</th>\n",
       "      <td>...</td>\n",
       "      <td>...</td>\n",
       "      <td>...</td>\n",
       "      <td>...</td>\n",
       "      <td>...</td>\n",
       "      <td>...</td>\n",
       "      <td>...</td>\n",
       "      <td>...</td>\n",
       "      <td>...</td>\n",
       "      <td>...</td>\n",
       "      <td>...</td>\n",
       "      <td>...</td>\n",
       "      <td>...</td>\n",
       "      <td>...</td>\n",
       "      <td>...</td>\n",
       "      <td>...</td>\n",
       "    </tr>\n",
       "    <tr>\n",
       "      <th>36576</th>\n",
       "      <td>97.8486</td>\n",
       "      <td>18.4110</td>\n",
       "      <td>337.8002</td>\n",
       "      <td>2.9682</td>\n",
       "      <td>2.5126</td>\n",
       "      <td>408.2890</td>\n",
       "      <td>99.5860</td>\n",
       "      <td>0.2618</td>\n",
       "      <td>0</td>\n",
       "      <td>0</td>\n",
       "      <td>0</td>\n",
       "      <td>1</td>\n",
       "      <td>0</td>\n",
       "      <td>0</td>\n",
       "      <td>0</td>\n",
       "      <td>1</td>\n",
       "    </tr>\n",
       "    <tr>\n",
       "      <th>36577</th>\n",
       "      <td>94.4894</td>\n",
       "      <td>24.0380</td>\n",
       "      <td>335.9302</td>\n",
       "      <td>1.9278</td>\n",
       "      <td>0.7990</td>\n",
       "      <td>421.6204</td>\n",
       "      <td>71.5700</td>\n",
       "      <td>3.0498</td>\n",
       "      <td>0</td>\n",
       "      <td>1</td>\n",
       "      <td>0</td>\n",
       "      <td>0</td>\n",
       "      <td>0</td>\n",
       "      <td>1</td>\n",
       "      <td>0</td>\n",
       "      <td>0</td>\n",
       "    </tr>\n",
       "    <tr>\n",
       "      <th>36578</th>\n",
       "      <td>100.3340</td>\n",
       "      <td>27.5400</td>\n",
       "      <td>332.4860</td>\n",
       "      <td>6.4736</td>\n",
       "      <td>1.5198</td>\n",
       "      <td>392.1016</td>\n",
       "      <td>6.5348</td>\n",
       "      <td>0.8772</td>\n",
       "      <td>0</td>\n",
       "      <td>0</td>\n",
       "      <td>1</td>\n",
       "      <td>0</td>\n",
       "      <td>0</td>\n",
       "      <td>0</td>\n",
       "      <td>0</td>\n",
       "      <td>1</td>\n",
       "    </tr>\n",
       "    <tr>\n",
       "      <th>36579</th>\n",
       "      <td>101.9354</td>\n",
       "      <td>17.9554</td>\n",
       "      <td>336.0526</td>\n",
       "      <td>5.9194</td>\n",
       "      <td>5.2904</td>\n",
       "      <td>389.1674</td>\n",
       "      <td>76.6360</td>\n",
       "      <td>0.1224</td>\n",
       "      <td>1</td>\n",
       "      <td>0</td>\n",
       "      <td>0</td>\n",
       "      <td>0</td>\n",
       "      <td>0</td>\n",
       "      <td>0</td>\n",
       "      <td>0</td>\n",
       "      <td>1</td>\n",
       "    </tr>\n",
       "    <tr>\n",
       "      <th>36580</th>\n",
       "      <td>93.9420</td>\n",
       "      <td>31.0760</td>\n",
       "      <td>340.0034</td>\n",
       "      <td>2.3800</td>\n",
       "      <td>0.2244</td>\n",
       "      <td>427.5398</td>\n",
       "      <td>10.4278</td>\n",
       "      <td>1.4722</td>\n",
       "      <td>0</td>\n",
       "      <td>0</td>\n",
       "      <td>1</td>\n",
       "      <td>0</td>\n",
       "      <td>0</td>\n",
       "      <td>1</td>\n",
       "      <td>0</td>\n",
       "      <td>0</td>\n",
       "    </tr>\n",
       "  </tbody>\n",
       "</table>\n",
       "<p>402391 rows × 16 columns</p>\n",
       "</div>"
      ],
      "text/plain": [
       "       절대 온도(K)  상대 습도 (%)  대기압(mbar)  실제 증기압(mbar)  증기압 부족량(mbar)  \\\n",
       "0      287.7800    76.1000   992.0800       12.1600         3.8200   \n",
       "1      290.8500    73.3000   991.0700       14.1700         5.1600   \n",
       "2      283.8400    74.2000   988.7100        8.9800         3.1200   \n",
       "3      277.3000    83.5000  1014.2500        7.4300         1.4700   \n",
       "4      290.8600    74.0000   995.7700       14.6800         5.1600   \n",
       "...         ...        ...        ...           ...            ...   \n",
       "36576   97.8486    18.4110   337.8002        2.9682         2.5126   \n",
       "36577   94.4894    24.0380   335.9302        1.9278         0.7990   \n",
       "36578  100.3340    27.5400   332.4860        6.4736         1.5198   \n",
       "36579  101.9354    17.9554   336.0526        5.9194         5.2904   \n",
       "36580   93.9420    31.0760   340.0034        2.3800         0.2244   \n",
       "\n",
       "       공기 밀도 (g/m**3)  풍향 (deg)  풍속 (m/s)  계절_가을  계절_겨울  계절_봄  계절_여름  \\\n",
       "0           1198.0600  155.6000    1.6100      0      0     0      1   \n",
       "1           1183.6700  177.0000    1.6800      0      0     0      1   \n",
       "2           1213.2200  146.2000    0.7300      1      0     0      0   \n",
       "3           1265.4800  264.5000    2.7100      0      1     0      0   \n",
       "4           1187.4000   19.3400    1.0000      1      0     0      0   \n",
       "...               ...       ...       ...    ...    ...   ...    ...   \n",
       "36576        408.2890   99.5860    0.2618      0      0     0      1   \n",
       "36577        421.6204   71.5700    3.0498      0      1     0      0   \n",
       "36578        392.1016    6.5348    0.8772      0      0     1      0   \n",
       "36579        389.1674   76.6360    0.1224      1      0     0      0   \n",
       "36580        427.5398   10.4278    1.4722      0      0     1      0   \n",
       "\n",
       "       측정 시간대_새벽  측정 시간대_오전  측정 시간대_오후  측정 시간대_저녁  \n",
       "0              0          0          0          1  \n",
       "1              0          1          0          0  \n",
       "2              0          0          0          1  \n",
       "3              0          1          0          0  \n",
       "4              0          0          1          0  \n",
       "...          ...        ...        ...        ...  \n",
       "36576          0          0          0          1  \n",
       "36577          0          1          0          0  \n",
       "36578          0          0          0          1  \n",
       "36579          0          0          0          1  \n",
       "36580          0          1          0          0  \n",
       "\n",
       "[402391 rows x 16 columns]"
      ]
     },
     "execution_count": 8,
     "metadata": {},
     "output_type": "execute_result"
    }
   ],
   "source": [
    "data_copy"
   ]
  },
  {
   "cell_type": "code",
   "execution_count": 9,
   "metadata": {},
   "outputs": [],
   "source": [
    "datas = data_copy.drop(\"풍속 (m/s)\",axis=1).values\n",
    "target = data_copy[\"풍속 (m/s)\"].values"
   ]
  },
  {
   "cell_type": "code",
   "execution_count": 10,
   "metadata": {},
   "outputs": [],
   "source": [
    "X_train, X_test, y_train, y_test = train_test_split(datas, target, test_size=0.2, random_state=42)\n"
   ]
  },
  {
   "cell_type": "code",
   "execution_count": 11,
   "metadata": {},
   "outputs": [],
   "source": [
    "# mm = MinMaxScaler()\n",
    "# X_train = mm.fit_transform(X_train)\n",
    "# X_test = mm.transform(X_test)"
   ]
  },
  {
   "cell_type": "code",
   "execution_count": 11,
   "metadata": {},
   "outputs": [],
   "source": [
    "def objective(trial, X_train, y_train, X_test, y_test):\n",
    "    n_estimators = trial.suggest_int(\"n_estimators\", 10, 1000)\n",
    "    max_depth = trial.suggest_int(\"max_depth\", 2, 50)\n",
    "\n",
    "\n",
    "    model = RandomForestRegressor(n_estimators=n_estimators,\n",
    "                                  max_depth=max_depth,\n",
    "                                  random_state=42,\n",
    "                                  n_jobs=-1)\n",
    "    model.fit(X_train, y_train)\n",
    "\n",
    "    # Use k-fold cross-validation for more robust evaluation\n",
    "    kfold = KFold(n_splits=5, shuffle=True, random_state=42)\n",
    "    cv_scores = cross_val_score(model, X_test, y_test, cv=kfold, scoring='neg_mean_absolute_error')\n",
    "    mae = -1 * np.mean(cv_scores)\n",
    "\n",
    "    return mae\n"
   ]
  },
  {
   "cell_type": "code",
   "execution_count": 12,
   "metadata": {},
   "outputs": [
    {
     "name": "stderr",
     "output_type": "stream",
     "text": [
      "[I 2023-07-20 11:20:35,641] A new study created in memory with name: no-name-21625888-7c11-4b52-a1c6-cc63f15b8810\n"
     ]
    }
   ],
   "source": [
    "study = optuna.create_study(direction=\"minimize\")\n",
    "study.optimize(lambda trial: objective(trial, X_train, y_train, X_test, y_test),\n",
    "               n_trials=1000,\n",
    "               timeout=7200)\n"
   ]
  },
  {
   "cell_type": "code",
   "execution_count": null,
   "metadata": {},
   "outputs": [
    {
     "name": "stdout",
     "output_type": "stream",
     "text": [
      "Best trial:\n",
      "MAE: 0.5098282674802497\n",
      "Params: \n",
      "n_estimators: 802\n",
      "max_depth: 34\n"
     ]
    }
   ],
   "source": [
    "print(\"Best trial:\")\n",
    "trial = study.best_trial\n",
    "print(\"MAE: {}\".format(trial.value))\n",
    "print(\"Params: \")\n",
    "for key, value in trial.params.items():\n",
    "    print(\"{}: {}\".format(key, value))"
   ]
  },
  {
   "cell_type": "code",
   "execution_count": null,
   "metadata": {},
   "outputs": [],
   "source": [
    "model_rf = RandomForestRegressor(**study.best_params)"
   ]
  },
  {
   "cell_type": "code",
   "execution_count": null,
   "metadata": {},
   "outputs": [
    {
     "data": {
      "text/html": [
       "<style>#sk-container-id-1 {color: black;background-color: white;}#sk-container-id-1 pre{padding: 0;}#sk-container-id-1 div.sk-toggleable {background-color: white;}#sk-container-id-1 label.sk-toggleable__label {cursor: pointer;display: block;width: 100%;margin-bottom: 0;padding: 0.3em;box-sizing: border-box;text-align: center;}#sk-container-id-1 label.sk-toggleable__label-arrow:before {content: \"▸\";float: left;margin-right: 0.25em;color: #696969;}#sk-container-id-1 label.sk-toggleable__label-arrow:hover:before {color: black;}#sk-container-id-1 div.sk-estimator:hover label.sk-toggleable__label-arrow:before {color: black;}#sk-container-id-1 div.sk-toggleable__content {max-height: 0;max-width: 0;overflow: hidden;text-align: left;background-color: #f0f8ff;}#sk-container-id-1 div.sk-toggleable__content pre {margin: 0.2em;color: black;border-radius: 0.25em;background-color: #f0f8ff;}#sk-container-id-1 input.sk-toggleable__control:checked~div.sk-toggleable__content {max-height: 200px;max-width: 100%;overflow: auto;}#sk-container-id-1 input.sk-toggleable__control:checked~label.sk-toggleable__label-arrow:before {content: \"▾\";}#sk-container-id-1 div.sk-estimator input.sk-toggleable__control:checked~label.sk-toggleable__label {background-color: #d4ebff;}#sk-container-id-1 div.sk-label input.sk-toggleable__control:checked~label.sk-toggleable__label {background-color: #d4ebff;}#sk-container-id-1 input.sk-hidden--visually {border: 0;clip: rect(1px 1px 1px 1px);clip: rect(1px, 1px, 1px, 1px);height: 1px;margin: -1px;overflow: hidden;padding: 0;position: absolute;width: 1px;}#sk-container-id-1 div.sk-estimator {font-family: monospace;background-color: #f0f8ff;border: 1px dotted black;border-radius: 0.25em;box-sizing: border-box;margin-bottom: 0.5em;}#sk-container-id-1 div.sk-estimator:hover {background-color: #d4ebff;}#sk-container-id-1 div.sk-parallel-item::after {content: \"\";width: 100%;border-bottom: 1px solid gray;flex-grow: 1;}#sk-container-id-1 div.sk-label:hover label.sk-toggleable__label {background-color: #d4ebff;}#sk-container-id-1 div.sk-serial::before {content: \"\";position: absolute;border-left: 1px solid gray;box-sizing: border-box;top: 0;bottom: 0;left: 50%;z-index: 0;}#sk-container-id-1 div.sk-serial {display: flex;flex-direction: column;align-items: center;background-color: white;padding-right: 0.2em;padding-left: 0.2em;position: relative;}#sk-container-id-1 div.sk-item {position: relative;z-index: 1;}#sk-container-id-1 div.sk-parallel {display: flex;align-items: stretch;justify-content: center;background-color: white;position: relative;}#sk-container-id-1 div.sk-item::before, #sk-container-id-1 div.sk-parallel-item::before {content: \"\";position: absolute;border-left: 1px solid gray;box-sizing: border-box;top: 0;bottom: 0;left: 50%;z-index: -1;}#sk-container-id-1 div.sk-parallel-item {display: flex;flex-direction: column;z-index: 1;position: relative;background-color: white;}#sk-container-id-1 div.sk-parallel-item:first-child::after {align-self: flex-end;width: 50%;}#sk-container-id-1 div.sk-parallel-item:last-child::after {align-self: flex-start;width: 50%;}#sk-container-id-1 div.sk-parallel-item:only-child::after {width: 0;}#sk-container-id-1 div.sk-dashed-wrapped {border: 1px dashed gray;margin: 0 0.4em 0.5em 0.4em;box-sizing: border-box;padding-bottom: 0.4em;background-color: white;}#sk-container-id-1 div.sk-label label {font-family: monospace;font-weight: bold;display: inline-block;line-height: 1.2em;}#sk-container-id-1 div.sk-label-container {text-align: center;}#sk-container-id-1 div.sk-container {/* jupyter's `normalize.less` sets `[hidden] { display: none; }` but bootstrap.min.css set `[hidden] { display: none !important; }` so we also need the `!important` here to be able to override the default hidden behavior on the sphinx rendered scikit-learn.org. See: https://github.com/scikit-learn/scikit-learn/issues/21755 */display: inline-block !important;position: relative;}#sk-container-id-1 div.sk-text-repr-fallback {display: none;}</style><div id=\"sk-container-id-1\" class=\"sk-top-container\"><div class=\"sk-text-repr-fallback\"><pre>RandomForestRegressor(max_depth=34, n_estimators=802)</pre><b>In a Jupyter environment, please rerun this cell to show the HTML representation or trust the notebook. <br />On GitHub, the HTML representation is unable to render, please try loading this page with nbviewer.org.</b></div><div class=\"sk-container\" hidden><div class=\"sk-item\"><div class=\"sk-estimator sk-toggleable\"><input class=\"sk-toggleable__control sk-hidden--visually\" id=\"sk-estimator-id-1\" type=\"checkbox\" checked><label for=\"sk-estimator-id-1\" class=\"sk-toggleable__label sk-toggleable__label-arrow\">RandomForestRegressor</label><div class=\"sk-toggleable__content\"><pre>RandomForestRegressor(max_depth=34, n_estimators=802)</pre></div></div></div></div></div>"
      ],
      "text/plain": [
       "RandomForestRegressor(max_depth=34, n_estimators=802)"
      ]
     },
     "execution_count": 12,
     "metadata": {},
     "output_type": "execute_result"
    }
   ],
   "source": [
    "model_rf.fit(X_train,y_train)\n"
   ]
  },
  {
   "cell_type": "code",
   "execution_count": null,
   "metadata": {},
   "outputs": [],
   "source": [
    "import pickle\n",
    "with open(\"model_rf.pkl\", \"wb\") as model_file:\n",
    "    pickle.dump(model_rf, model_file)"
   ]
  },
  {
   "cell_type": "code",
   "execution_count": null,
   "metadata": {},
   "outputs": [],
   "source": []
  }
 ],
 "metadata": {
  "kernelspec": {
   "display_name": "dc",
   "language": "python",
   "name": "python3"
  },
  "language_info": {
   "codemirror_mode": {
    "name": "ipython",
    "version": 3
   },
   "file_extension": ".py",
   "mimetype": "text/x-python",
   "name": "python",
   "nbconvert_exporter": "python",
   "pygments_lexer": "ipython3",
   "version": "3.10.11"
  },
  "orig_nbformat": 4
 },
 "nbformat": 4,
 "nbformat_minor": 2
}
