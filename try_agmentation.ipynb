{
 "cells": [
  {
   "cell_type": "code",
   "execution_count": null,
   "metadata": {},
   "outputs": [],
   "source": [
    "from pycaret.regression import * \n",
    "import pandas as pd"
   ]
  },
  {
   "cell_type": "code",
   "execution_count": null,
   "metadata": {},
   "outputs": [],
   "source": [
    "data = pd.read_csv(\"train.csv\")"
   ]
  },
  {
   "cell_type": "code",
   "execution_count": null,
   "metadata": {},
   "outputs": [],
   "source": [
    "import random\n",
    "random_alpha = []\n",
    "for i in range(5):\n",
    "    random_alpha.append(round(random.uniform(0.0001, 0.001),4))\n",
    "random_alpha"
   ]
  },
  {
   "cell_type": "code",
   "execution_count": null,
   "metadata": {},
   "outputs": [],
   "source": [
    "datas_copy = data.copy()\n",
    "for i in random_alpha:\n",
    "    temp_df = data.copy()\n",
    "    temp_df = temp_df*i\n",
    "    # datas_copy = pd.concat([datas_copy, temp_df])\n",
    "    datas_copy = pd.concat([datas_copy, data.copy()])\n"
   ]
  },
  {
   "cell_type": "code",
   "execution_count": null,
   "metadata": {},
   "outputs": [],
   "source": [
    "datas = datas_copy.reset_index().drop(\"index\",axis=1)"
   ]
  }
 ],
 "metadata": {
  "language_info": {
   "name": "python"
  },
  "orig_nbformat": 4
 },
 "nbformat": 4,
 "nbformat_minor": 2
}
